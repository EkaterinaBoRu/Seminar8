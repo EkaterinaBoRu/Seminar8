{
  "nbformat": 4,
  "nbformat_minor": 0,
  "metadata": {
    "colab": {
      "provenance": [],
      "authorship_tag": "ABX9TyNelePEmTT5EckrlXvgiFup",
      "include_colab_link": true
    },
    "kernelspec": {
      "name": "python3",
      "display_name": "Python 3"
    },
    "language_info": {
      "name": "python"
    }
  },
  "cells": [
    {
      "cell_type": "markdown",
      "metadata": {
        "id": "view-in-github",
        "colab_type": "text"
      },
      "source": [
        "<a href=\"https://colab.research.google.com/github/EkaterinaBoRu/Seminar8/blob/main/%D0%94%D0%97%E2%84%9610_%D1%81%D1%82%D0%B0%D1%82.ipynb\" target=\"_parent\"><img src=\"https://colab.research.google.com/assets/colab-badge.svg\" alt=\"Open In Colab\"/></a>"
      ]
    },
    {
      "cell_type": "markdown",
      "source": [
        "## Задание"
      ],
      "metadata": {
        "id": "7UBRhAGLtHG-"
      }
    },
    {
      "cell_type": "markdown",
      "source": [
        "Провести дисперсионный анализ для определения того, есть ли различия среднего роста среди взрослых футболистов, хоккеистов и штангистов. Даны значения роста в трех группах случайно выбранных спортсменов: Футболисты: 173, 175, 180, 178, 177, 185, 183, 182. Хоккеисты: 177, 179, 180, 188, 177, 172, 171, 184, 180. Штангисты: 172, 173, 169, 177, 166, 180, 178, 177, 172, 166, 170."
      ],
      "metadata": {
        "id": "ChOIOLsOs74v"
      }
    },
    {
      "cell_type": "code",
      "source": [
        "import numpy as np\n",
        "from scipy import stats\n",
        "import matplotlib.pyplot as plt"
      ],
      "metadata": {
        "id": "QTTD8OI3tNbX"
      },
      "execution_count": 15,
      "outputs": []
    },
    {
      "cell_type": "code",
      "source": [
        "y1 = np.array([173, 175, 180, 178, 177, 185, 183, 182], dtype=np.int64)\n",
        "y2 = np.array([177, 179, 180, 188, 177, 172, 171, 184, 180], dtype=np.int64)\n",
        "y3 = np.array([172, 173, 169, 177, 166, 180, 178, 177, 172, 166, 170], dtype=np.int64)"
      ],
      "metadata": {
        "id": "J8YkC_FLtWAn"
      },
      "execution_count": 31,
      "outputs": []
    },
    {
      "cell_type": "code",
      "source": [
        "k = 3\n",
        "n = 28"
      ],
      "metadata": {
        "id": "6vcjBfRwuh3-"
      },
      "execution_count": 26,
      "outputs": []
    },
    {
      "cell_type": "code",
      "source": [
        "y_mean_1 = np.mean(y1)\n",
        "y_mean_1"
      ],
      "metadata": {
        "colab": {
          "base_uri": "https://localhost:8080/"
        },
        "id": "Z2uFkMjVvMBA",
        "outputId": "f7325389-2325-4a4a-86ae-e94681fa3af2"
      },
      "execution_count": 32,
      "outputs": [
        {
          "output_type": "execute_result",
          "data": {
            "text/plain": [
              "179.125"
            ]
          },
          "metadata": {},
          "execution_count": 32
        }
      ]
    },
    {
      "cell_type": "code",
      "source": [
        "y_mean_2 = np.mean(y2)\n",
        "y_mean_2"
      ],
      "metadata": {
        "colab": {
          "base_uri": "https://localhost:8080/"
        },
        "id": "LkUCTa-ovWAj",
        "outputId": "e1aab2ad-0f3c-4389-d91c-e29d7e3acd6e"
      },
      "execution_count": 33,
      "outputs": [
        {
          "output_type": "execute_result",
          "data": {
            "text/plain": [
              "178.66666666666666"
            ]
          },
          "metadata": {},
          "execution_count": 33
        }
      ]
    },
    {
      "cell_type": "code",
      "source": [
        "y_mean_3 = np.mean(y3)\n",
        "y_mean_3"
      ],
      "metadata": {
        "colab": {
          "base_uri": "https://localhost:8080/"
        },
        "id": "ttIRK0LmvZYA",
        "outputId": "6106434c-2f34-43cd-c9b5-536bb8bdebc5"
      },
      "execution_count": 34,
      "outputs": [
        {
          "output_type": "execute_result",
          "data": {
            "text/plain": [
              "172.72727272727272"
            ]
          },
          "metadata": {},
          "execution_count": 34
        }
      ]
    },
    {
      "cell_type": "code",
      "source": [
        "total = np.concatenate([y1, y2, y3])\n",
        "total"
      ],
      "metadata": {
        "colab": {
          "base_uri": "https://localhost:8080/"
        },
        "id": "FWC7HMVCvfLI",
        "outputId": "2ed6e8ba-6699-4d73-c8ee-0f0ecb61d43c"
      },
      "execution_count": 37,
      "outputs": [
        {
          "output_type": "execute_result",
          "data": {
            "text/plain": [
              "array([173, 175, 180, 178, 177, 185, 183, 182, 177, 179, 180, 188, 177,\n",
              "       172, 171, 184, 180, 172, 173, 169, 177, 166, 180, 178, 177, 172,\n",
              "       166, 170])"
            ]
          },
          "metadata": {},
          "execution_count": 37
        }
      ]
    },
    {
      "cell_type": "code",
      "source": [
        "y_mena_total = np.mean(total)\n",
        "y_mena_total"
      ],
      "metadata": {
        "colab": {
          "base_uri": "https://localhost:8080/"
        },
        "id": "UMYsHIxDwADD",
        "outputId": "755acb3a-9a2d-4201-8966-385d3da2f856"
      },
      "execution_count": 39,
      "outputs": [
        {
          "output_type": "execute_result",
          "data": {
            "text/plain": [
              "176.46428571428572"
            ]
          },
          "metadata": {},
          "execution_count": 39
        }
      ]
    },
    {
      "cell_type": "markdown",
      "source": [
        "Сумма квадратов отклонений наблюдений от общего среднего"
      ],
      "metadata": {
        "id": "_I2N6bjlyha_"
      }
    },
    {
      "cell_type": "code",
      "source": [
        "np.sum((total - 176.46)**2)"
      ],
      "metadata": {
        "colab": {
          "base_uri": "https://localhost:8080/"
        },
        "id": "IZxn-Se3wJlL",
        "outputId": "a2b3b1df-ac68-4a27-b885-242b0d06277c"
      },
      "execution_count": 40,
      "outputs": [
        {
          "output_type": "execute_result",
          "data": {
            "text/plain": [
              "830.9647999999999"
            ]
          },
          "metadata": {},
          "execution_count": 40
        }
      ]
    },
    {
      "cell_type": "markdown",
      "source": [
        "Сумма квадратов отклонений средних групповых значений от общего среднего"
      ],
      "metadata": {
        "id": "gKFhN9Hrz2Os"
      }
    },
    {
      "cell_type": "code",
      "source": [
        "S_f = np.sum((y_mean_1 - 176.46)**2)*8 + np.sum((y_mean_2 - 176.46)**2)*9 + np.sum((y_mean_3 - 176.46)**2)*11\n",
        "S_f"
      ],
      "metadata": {
        "colab": {
          "base_uri": "https://localhost:8080/"
        },
        "id": "6DnL6H8iz_Jp",
        "outputId": "7ca2e03a-be89-41f5-ae65-bda0b897f3e7"
      },
      "execution_count": 41,
      "outputs": [
        {
          "output_type": "execute_result",
          "data": {
            "text/plain": [
              "253.90798181818207"
            ]
          },
          "metadata": {},
          "execution_count": 41
        }
      ]
    },
    {
      "cell_type": "markdown",
      "source": [
        "Остаточная сумма квадратов отклонений"
      ],
      "metadata": {
        "id": "B4sqnp2t09Mi"
      }
    },
    {
      "cell_type": "code",
      "source": [
        "S_ost = np.sum((y1 - y_mean_1)**2) + np.sum((y2 - y_mean_2)**2)+ np.sum((y3 - y_mean_3)**2)\n",
        "S_ost"
      ],
      "metadata": {
        "colab": {
          "base_uri": "https://localhost:8080/"
        },
        "id": "Ufg5dNFF1A2v",
        "outputId": "1e16ad75-cfb9-4ae9-9384-c47d418ab252"
      },
      "execution_count": 42,
      "outputs": [
        {
          "output_type": "execute_result",
          "data": {
            "text/plain": [
              "577.0568181818182"
            ]
          },
          "metadata": {},
          "execution_count": 42
        }
      ]
    },
    {
      "cell_type": "code",
      "source": [
        "253.90798181818207 + 577.0568181818182"
      ],
      "metadata": {
        "colab": {
          "base_uri": "https://localhost:8080/"
        },
        "id": "K8tOM18K1dJY",
        "outputId": "8698306c-a96f-46b9-a4a6-a3646e15d42f"
      },
      "execution_count": 43,
      "outputs": [
        {
          "output_type": "execute_result",
          "data": {
            "text/plain": [
              "830.9648000000003"
            ]
          },
          "metadata": {},
          "execution_count": 43
        }
      ]
    },
    {
      "cell_type": "code",
      "source": [
        "D_f = S_f/(k-1)\n",
        "D_f"
      ],
      "metadata": {
        "colab": {
          "base_uri": "https://localhost:8080/"
        },
        "id": "yx2Yv2731h5b",
        "outputId": "028ff2f9-d1cb-4a24-a6e3-991044e263d7"
      },
      "execution_count": 44,
      "outputs": [
        {
          "output_type": "execute_result",
          "data": {
            "text/plain": [
              "126.95399090909103"
            ]
          },
          "metadata": {},
          "execution_count": 44
        }
      ]
    },
    {
      "cell_type": "code",
      "source": [
        "D_ost = S_ost/(n-k)\n",
        "D_ost"
      ],
      "metadata": {
        "colab": {
          "base_uri": "https://localhost:8080/"
        },
        "id": "TU1hdJlw1tzi",
        "outputId": "e5d0e1f3-c855-42af-e3f1-e7c3a5847a25"
      },
      "execution_count": 45,
      "outputs": [
        {
          "output_type": "execute_result",
          "data": {
            "text/plain": [
              "23.08227272727273"
            ]
          },
          "metadata": {},
          "execution_count": 45
        }
      ]
    },
    {
      "cell_type": "code",
      "source": [
        "F_n = 126.95399090909103/23.08227272727273\n",
        "F_n"
      ],
      "metadata": {
        "colab": {
          "base_uri": "https://localhost:8080/"
        },
        "id": "heJUNw7413Xp",
        "outputId": "1810c90f-384e-482f-db46-a4a845a238a2"
      },
      "execution_count": 46,
      "outputs": [
        {
          "output_type": "execute_result",
          "data": {
            "text/plain": [
              "5.500064591087222"
            ]
          },
          "metadata": {},
          "execution_count": 46
        }
      ]
    },
    {
      "cell_type": "code",
      "source": [
        "f = stats.f_oneway(y1, y2, y3)\n",
        "f"
      ],
      "metadata": {
        "colab": {
          "base_uri": "https://localhost:8080/"
        },
        "id": "6S7dcR-k2Elv",
        "outputId": "d5e815bf-9070-4d47-a9c3-dab50b4e28f7"
      },
      "execution_count": 47,
      "outputs": [
        {
          "output_type": "execute_result",
          "data": {
            "text/plain": [
              "F_onewayResult(statistic=5.500053450812596, pvalue=0.010482206918698694)"
            ]
          },
          "metadata": {},
          "execution_count": 47
        }
      ]
    },
    {
      "cell_type": "markdown",
      "source": [
        "При α =  0.05, k-1= 2, n-k= 25 табличное значение критерия Фишера равно 3.38. Расчетное значение 5.5 попадает в область принятия альтернативной гипотезы H1.То есть делаем вывод, что есть различия между указанными в условии задачи ростом представителями разных видов спорта.\n",
        "Pvalue<a, делаем вывод в пользу альтернативной гипотезы."
      ],
      "metadata": {
        "id": "aD-UAlPJ2ZOy"
      }
    }
  ]
}