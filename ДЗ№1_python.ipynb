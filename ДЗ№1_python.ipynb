{
  "nbformat": 4,
  "nbformat_minor": 0,
  "metadata": {
    "colab": {
      "provenance": [],
      "authorship_tag": "ABX9TyN0hGx5C0v4kSxzFlgxQGmh",
      "include_colab_link": true
    },
    "kernelspec": {
      "name": "python3",
      "display_name": "Python 3"
    },
    "language_info": {
      "name": "python"
    }
  },
  "cells": [
    {
      "cell_type": "markdown",
      "metadata": {
        "id": "view-in-github",
        "colab_type": "text"
      },
      "source": [
        "<a href=\"https://colab.research.google.com/github/EkaterinaBoRu/Seminar8/blob/main/%D0%94%D0%97%E2%84%961_python.ipynb\" target=\"_parent\"><img src=\"https://colab.research.google.com/assets/colab-badge.svg\" alt=\"Open In Colab\"/></a>"
      ]
    },
    {
      "cell_type": "markdown",
      "source": [
        "## Задание 2\n",
        "На складе лежат разные фрукты в разном количестве.\n",
        "Нужно написать функцию, которая на вход принимает любое количество названий фруктов и их количество, а возвращает общее количество фруктов на складе"
      ],
      "metadata": {
        "id": "xrJfAXVd3nE6"
      }
    },
    {
      "cell_type": "code",
      "source": [
        "def summ_products (**kwargs):\n",
        "  for key, value in kwargs.items():\n",
        "    print(f'{key}: {value}')\n",
        "  print(f'Total products: {sum(kwargs.values())}')"
      ],
      "metadata": {
        "id": "WiMQAMqaEBqv"
      },
      "execution_count": 35,
      "outputs": []
    },
    {
      "cell_type": "code",
      "source": [
        "summ_products(apple = 5, watermelon = 2, pear = 4)"
      ],
      "metadata": {
        "colab": {
          "base_uri": "https://localhost:8080/"
        },
        "id": "W2gC20FOEukG",
        "outputId": "a114e745-dfec-49f3-a64c-0283385b8607"
      },
      "execution_count": 36,
      "outputs": [
        {
          "output_type": "stream",
          "name": "stdout",
          "text": [
            "apple: 5\n",
            "watermelon: 2\n",
            "pear: 4\n",
            "Total products: 11\n"
          ]
        }
      ]
    },
    {
      "cell_type": "markdown",
      "source": [
        "## Задание 3"
      ],
      "metadata": {
        "id": "kGaicN64HZp9"
      }
    },
    {
      "cell_type": "markdown",
      "source": [
        "Дан список с затратами на рекламу. Но в данных есть ошибки, некоторые затраты имеют отрицательную величину. Удалите такие значения из списка и посчитайте суммарные затраты\n",
        "[100, 125, -90, 345, 655, -1, 0, 200]\n",
        "Используйте list comprehensions"
      ],
      "metadata": {
        "id": "ngxYlnnAHerX"
      }
    },
    {
      "cell_type": "code",
      "source": [
        "wrong_costs = [100, 125, -90, 345, 655, -1, 0, 200]"
      ],
      "metadata": {
        "id": "uI0tV8IUHgAm"
      },
      "execution_count": 46,
      "outputs": []
    },
    {
      "cell_type": "code",
      "source": [
        "new_costs = [i for i in wrong_costs if i>=0]\n",
        "new_costs"
      ],
      "metadata": {
        "colab": {
          "base_uri": "https://localhost:8080/"
        },
        "id": "5YRyr7esQG2x",
        "outputId": "9202578b-c538-4c16-c71a-1cea04682910"
      },
      "execution_count": 47,
      "outputs": [
        {
          "output_type": "execute_result",
          "data": {
            "text/plain": [
              "[100, 125, 345, 655, 0, 200]"
            ]
          },
          "metadata": {},
          "execution_count": 47
        }
      ]
    },
    {
      "cell_type": "code",
      "source": [
        "print (sum(new_costs))"
      ],
      "metadata": {
        "colab": {
          "base_uri": "https://localhost:8080/"
        },
        "id": "nJmf-cZfQzDW",
        "outputId": "59a51b4a-14ca-45e2-cafd-09769b483d5e"
      },
      "execution_count": 50,
      "outputs": [
        {
          "output_type": "stream",
          "name": "stdout",
          "text": [
            "1425\n"
          ]
        }
      ]
    },
    {
      "cell_type": "markdown",
      "source": [
        "## Задание 4"
      ],
      "metadata": {
        "id": "MXv5yu0YSGnn"
      }
    },
    {
      "cell_type": "markdown",
      "source": [
        "Даны два списка.\n",
        "Дата покупки\n",
        "['2021-09-14', '2021-12-15', '2021-09-08', '2021-12-05', '2021-10-09', '2021-09-30', '2021-12-22', '2021-11-29', '2021-12-24', '2021-11-26', '2021-10-27', '2021-12-18', '2021-11-09', '2021-11-23', '2021-09-27', '2021-10-02', '2021-12-27', '2021-09-20', '2021-12-13', '2021-11-01', '2021-11-09', '2021-12-06', '2021-12-08', '2021-10-09', '2021-10-31', '2021-09-30', '2021-11-09', '2021-12-13', '2021-10-26', '2021-12-09']\n",
        "\n",
        "Суммы покупок по датам\n",
        "[1270, 8413, 9028, 3703, 5739, 4095, 295, 4944, 5723, 3701, 4471, 651, 7037, 4274, 6275, 4988, 6930, 2971, 6592, 2004, 2822, 519, 3406, 2732, 5015, 2008, 316, 6333, 5700, 2887]"
      ],
      "metadata": {
        "id": "SNOQxDevSY1t"
      }
    },
    {
      "cell_type": "markdown",
      "source": [
        "### 4.1\n",
        "Найдите, какая выручка у компании в ноябре.\n",
        "Используйте list comprehensions"
      ],
      "metadata": {
        "id": "cIPGgAioShQL"
      }
    },
    {
      "cell_type": "code",
      "source": [
        "date_purchase = ['2021-09-14', '2021-12-15', '2021-09-08', '2021-12-05', '2021-10-09', '2021-09-30', '2021-12-22', '2021-11-29', '2021-12-24', '2021-11-26', '2021-10-27', '2021-12-18', '2021-11-09', '2021-11-23', '2021-09-27', '2021-10-02', '2021-12-27', '2021-09-20', '2021-12-13', '2021-11-01', '2021-11-09', '2021-12-06', '2021-12-08', '2021-10-09', '2021-10-31', '2021-09-30', '2021-11-09', '2021-12-13', '2021-10-26', '2021-12-09']"
      ],
      "metadata": {
        "id": "0MZKNI9ZSC8m"
      },
      "execution_count": 51,
      "outputs": []
    },
    {
      "cell_type": "code",
      "source": [
        "summ_of_date = [1270, 8413, 9028, 3703, 5739, 4095, 295, 4944, 5723, 3701, 4471, 651, 7037, 4274, 6275, 4988, 6930, 2971, 6592, 2004, 2822, 519, 3406, 2732, 5015, 2008, 316, 6333, 5700, 2887]"
      ],
      "metadata": {
        "id": "m4L5LPDdS5LS"
      },
      "execution_count": 52,
      "outputs": []
    },
    {
      "cell_type": "code",
      "source": [
        "i_november = [i if '2021-10-31'< i< '2021-12-01' else 0 for i in date_purchase ]\n",
        "i_november"
      ],
      "metadata": {
        "colab": {
          "base_uri": "https://localhost:8080/"
        },
        "id": "FXIr4N5IUXTX",
        "outputId": "5c554c48-673b-46f0-ac52-13e11e667004"
      },
      "execution_count": 55,
      "outputs": [
        {
          "output_type": "execute_result",
          "data": {
            "text/plain": [
              "[0,\n",
              " 0,\n",
              " 0,\n",
              " 0,\n",
              " 0,\n",
              " 0,\n",
              " 0,\n",
              " '2021-11-29',\n",
              " 0,\n",
              " '2021-11-26',\n",
              " 0,\n",
              " 0,\n",
              " '2021-11-09',\n",
              " '2021-11-23',\n",
              " 0,\n",
              " 0,\n",
              " 0,\n",
              " 0,\n",
              " 0,\n",
              " '2021-11-01',\n",
              " '2021-11-09',\n",
              " 0,\n",
              " 0,\n",
              " 0,\n",
              " 0,\n",
              " 0,\n",
              " '2021-11-09',\n",
              " 0,\n",
              " 0,\n",
              " 0]"
            ]
          },
          "metadata": {},
          "execution_count": 55
        }
      ]
    },
    {
      "cell_type": "code",
      "source": [
        "n_list = [(summ_of_date[i])\n",
        "           for i in range(len(summ_of_date))\n",
        "           for j in range(len(i_november))\n",
        "           if i == j and i_november[i] != 0]\n",
        "print(sum(n_list))\n"
      ],
      "metadata": {
        "colab": {
          "base_uri": "https://localhost:8080/"
        },
        "id": "af62yU1_YCC4",
        "outputId": "d99af753-5ad5-4acf-e7c2-cfb3a58b539a"
      },
      "execution_count": 67,
      "outputs": [
        {
          "output_type": "stream",
          "name": "stdout",
          "text": [
            "25098\n"
          ]
        }
      ]
    },
    {
      "cell_type": "markdown",
      "source": [
        "### 4.2\n",
        "Найдите выручку компании в зависимости от месяца\n",
        "Для этого напишите функцию, которая на вход принимает список с датами и список с выручкой, а на выходе словарь, где ключи - это месяцы, а значения - это выручка.\n",
        "Используйте аннотирование типов."
      ],
      "metadata": {
        "id": "muv47QCMZBd_"
      }
    },
    {
      "cell_type": "code",
      "source": [
        "def dict_new (list_date: list, list_products: list) -> dict:\n",
        "    dict_Month = {}\n",
        "    for i in range(len(list_date)):\n",
        "        if list_date[i].split('-')[1] in dict_Month.keys():\n",
        "            dict_Month[list_date[i].split('-')[1]] += list_products[i]\n",
        "        else:\n",
        "            dict_Month[list_date[i].split('-')[1]] = list_products[i]\n",
        "    return dict_Month"
      ],
      "metadata": {
        "id": "NvEB5jUmgEQn"
      },
      "execution_count": 80,
      "outputs": []
    },
    {
      "cell_type": "code",
      "source": [
        "dict_new(date_purchase, summ_of_date)"
      ],
      "metadata": {
        "colab": {
          "base_uri": "https://localhost:8080/"
        },
        "id": "tWEKuDGRh4fy",
        "outputId": "7c77f606-03ef-4ee3-b87c-8d7ac71f3d49"
      },
      "execution_count": 81,
      "outputs": [
        {
          "output_type": "execute_result",
          "data": {
            "text/plain": [
              "{'09': 25647, '12': 45452, '10': 28645, '11': 25098}"
            ]
          },
          "metadata": {},
          "execution_count": 81
        }
      ]
    }
  ]
}