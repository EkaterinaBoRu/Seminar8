{
  "nbformat": 4,
  "nbformat_minor": 0,
  "metadata": {
    "colab": {
      "provenance": [],
      "authorship_tag": "ABX9TyPE+mCbMkk36902Y6NTtrJ1",
      "include_colab_link": true
    },
    "kernelspec": {
      "name": "python3",
      "display_name": "Python 3"
    },
    "language_info": {
      "name": "python"
    }
  },
  "cells": [
    {
      "cell_type": "markdown",
      "metadata": {
        "id": "view-in-github",
        "colab_type": "text"
      },
      "source": [
        "<a href=\"https://colab.research.google.com/github/EkaterinaBoRu/Seminar8/blob/main/%D0%94%D0%97%E2%84%967.ipynb\" target=\"_parent\"><img src=\"https://colab.research.google.com/assets/colab-badge.svg\" alt=\"Open In Colab\"/></a>"
      ]
    },
    {
      "cell_type": "markdown",
      "source": [
        "**Задание 1)** Выбрать тест и проверить, есть  ли различия между выборками:\n",
        "\n",
        "Даны две  независимые выборки. Не соблюдается условие нормальности\n",
        "\n",
        "x1  380,420, 290\n",
        "\n",
        "y1 140,360,200,900\n",
        "\n",
        "Сделайте вывод по результатам, полученным с помощью функции"
      ],
      "metadata": {
        "id": "9WP6gi_wRXSz"
      }
    },
    {
      "cell_type": "markdown",
      "source": [
        "Тест Манна-Уитни"
      ],
      "metadata": {
        "id": "eiVi43hJPrmH"
      }
    },
    {
      "cell_type": "code",
      "source": [
        "import numpy as np\n",
        "import scipy.stats as stats"
      ],
      "metadata": {
        "id": "78t21hk_PUFQ"
      },
      "execution_count": 1,
      "outputs": []
    },
    {
      "cell_type": "code",
      "source": [
        "x1= np.array([380, 420, 290])\n",
        "y1= np.array([140, 360, 200, 900])"
      ],
      "metadata": {
        "id": "0-IDlMWoQIGQ"
      },
      "execution_count": 2,
      "outputs": []
    },
    {
      "cell_type": "code",
      "source": [
        "stats.mannwhitneyu( x1, y1)\n"
      ],
      "metadata": {
        "colab": {
          "base_uri": "https://localhost:8080/"
        },
        "id": "Ah5DgqWGQgjr",
        "outputId": "60bc1bd7-ea0d-4926-8147-149589effee0"
      },
      "execution_count": 4,
      "outputs": [
        {
          "output_type": "execute_result",
          "data": {
            "text/plain": [
              "MannwhitneyuResult(statistic=8.0, pvalue=0.6285714285714286)"
            ]
          },
          "metadata": {},
          "execution_count": 4
        }
      ]
    },
    {
      "cell_type": "markdown",
      "source": [
        "Принимаем гипотезу H0 при a=0,05"
      ],
      "metadata": {
        "id": "MbhmhuNSRQ0m"
      }
    },
    {
      "cell_type": "markdown",
      "source": [
        "**Задание 2)** Исследовалось влияние препарата на уровень давления пациентов. Сначала измерялось давление до приема препарата, потом через 10 минут и через 30 минут. Есть ли статистически значимые различия?\n",
        "\n",
        "1е измерение до приема препарата: 150, 160, 165, 145, 155\n",
        "\n",
        "2е измерение через 10 минут: 140, 155, 150,  130, 135\n",
        "\n",
        "3е измерение через 30 минут: 130, 130, 120, 130, 125"
      ],
      "metadata": {
        "id": "Ds7OEwtGRV0W"
      }
    },
    {
      "cell_type": "markdown",
      "source": [
        "Критерий Фридмана"
      ],
      "metadata": {
        "id": "8WZNp9jISgqc"
      }
    },
    {
      "cell_type": "code",
      "source": [
        "x1= np.array([150, 160, 165, 145, 155])\n",
        "x2= np.array([140, 155, 150, 130, 135])\n",
        "x3= np.array([130, 130, 120, 130, 125])"
      ],
      "metadata": {
        "id": "kaKbzWBMRoNp"
      },
      "execution_count": 6,
      "outputs": []
    },
    {
      "cell_type": "code",
      "source": [
        "stats.friedmanchisquare(x1, x2, x3)"
      ],
      "metadata": {
        "colab": {
          "base_uri": "https://localhost:8080/"
        },
        "id": "29RZjhQgSKtc",
        "outputId": "a997469e-f1d3-44b4-8ced-636a4c3bdef8"
      },
      "execution_count": 7,
      "outputs": [
        {
          "output_type": "execute_result",
          "data": {
            "text/plain": [
              "FriedmanchisquareResult(statistic=9.578947368421062, pvalue=0.00831683351100441)"
            ]
          },
          "metadata": {},
          "execution_count": 7
        }
      ]
    },
    {
      "cell_type": "markdown",
      "source": [
        "Принимаем альтернативную гипотезу H1 при a=0,05"
      ],
      "metadata": {
        "id": "YJrDbRvgSalw"
      }
    },
    {
      "cell_type": "markdown",
      "source": [
        "**Задание 3)** Исследовалось влияние препарата на уровень давления пациентов. Сначала измерялось давление до приема препарата, потом через 10 минут. Есть ли статистически значимые различия?\n",
        "\n",
        "1е измерение до приема препарата: 150, 160, 165, 145, 155\n",
        "\n",
        "2е измерение через 10 минут: 140, 155, 150,  130, 135"
      ],
      "metadata": {
        "id": "yp-zfW4aTa3g"
      }
    },
    {
      "cell_type": "markdown",
      "source": [
        "Критерий Уилкоксона"
      ],
      "metadata": {
        "id": "nq0JX-xPTwD-"
      }
    },
    {
      "cell_type": "code",
      "source": [
        "x1= np.array([150, 160, 165, 145, 155])\n",
        "x2= np.array([140, 155, 150, 130, 135])"
      ],
      "metadata": {
        "id": "HT9_yO8lThVs"
      },
      "execution_count": 8,
      "outputs": []
    },
    {
      "cell_type": "code",
      "source": [
        "stats.wilcoxon(x1, x2)"
      ],
      "metadata": {
        "colab": {
          "base_uri": "https://localhost:8080/"
        },
        "id": "kMD8I1l7T5Iu",
        "outputId": "a7d025fd-7cd1-4ff9-e77e-87fb548badfe"
      },
      "execution_count": 9,
      "outputs": [
        {
          "output_type": "execute_result",
          "data": {
            "text/plain": [
              "WilcoxonResult(statistic=0.0, pvalue=0.0625)"
            ]
          },
          "metadata": {},
          "execution_count": 9
        }
      ]
    },
    {
      "cell_type": "markdown",
      "source": [
        "Принимаем гипотезу H0 при a=0,05"
      ],
      "metadata": {
        "id": "0ElBlhz7UTYU"
      }
    },
    {
      "cell_type": "markdown",
      "source": [
        "**Задание 4)** Даны 3 группы  учеников плавания.\n",
        "В 1 группе время на дистанцию 50 м составляют:\n",
        "56, 60, 62, 55, 71, 67, 59, 58, 64, 67\n",
        "\n",
        "Вторая группа : 57, 58, 69, 48, 72, 70, 68, 71, 50, 53\n",
        "\n",
        "Третья группа: 57, 67, 49, 48, 47, 55, 66, 51, 54"
      ],
      "metadata": {
        "id": "T6tsS70lUZrf"
      }
    },
    {
      "cell_type": "markdown",
      "source": [
        "Критерий Крускала-Уоллиса"
      ],
      "metadata": {
        "id": "a8mWeRpaUtxE"
      }
    },
    {
      "cell_type": "code",
      "source": [
        "x1= np.array([56, 60, 62, 55, 71, 67, 59, 58, 64, 67])\n",
        "x2= np.array([57, 58, 69, 48, 72, 70, 68, 71, 50, 53])\n",
        "x3= np.array([57, 67, 49, 48, 47, 55, 66, 51, 54])"
      ],
      "metadata": {
        "id": "dJcFm6--UntB"
      },
      "execution_count": 10,
      "outputs": []
    },
    {
      "cell_type": "code",
      "source": [
        "stats.kruskal( x1, x2, x3)"
      ],
      "metadata": {
        "colab": {
          "base_uri": "https://localhost:8080/"
        },
        "id": "jWaneF43VLb1",
        "outputId": "87bc2a6d-95dd-4a66-a890-b96f9d0c0696"
      },
      "execution_count": 11,
      "outputs": [
        {
          "output_type": "execute_result",
          "data": {
            "text/plain": [
              "KruskalResult(statistic=5.465564058257224, pvalue=0.0650380998590494)"
            ]
          },
          "metadata": {},
          "execution_count": 11
        }
      ]
    },
    {
      "cell_type": "markdown",
      "source": [
        "Принимаем гипотезу H0 при a=0,05"
      ],
      "metadata": {
        "id": "wmG29cgtVU_r"
      }
    },
    {
      "cell_type": "markdown",
      "source": [
        "**Задание 5)** Заявляется, что партия изготавливается со средним арифметическим 2,5 см. Проверить данную гипотезу, если известно, что размеры изделий подчинены нормальному закону распределения. Объем выборки 10, уровень статистической значимости 5%\n",
        "\n",
        "2.51, 2.35, 2.74, 2.56, 2.40, 2.36, 2.65, 2.7, 2.67, 2.34"
      ],
      "metadata": {
        "id": "I47iM0glW6h6"
      }
    },
    {
      "cell_type": "markdown",
      "source": [
        "Распределение Стьюдента"
      ],
      "metadata": {
        "id": "DJoagBgAX4Lf"
      }
    },
    {
      "cell_type": "code",
      "source": [
        "x= np.array([2.51, 2.35, 2.74, 2.56, 2.40, 2.36, 2.65, 2.7, 2.67, 2.34])"
      ],
      "metadata": {
        "id": "T3Ba7fbLXAio"
      },
      "execution_count": 12,
      "outputs": []
    },
    {
      "cell_type": "code",
      "source": [
        "np.mean(x)"
      ],
      "metadata": {
        "colab": {
          "base_uri": "https://localhost:8080/"
        },
        "id": "n3I6oE4LXHzM",
        "outputId": "1685a54b-119a-4522-f788-95d56a501bd8"
      },
      "execution_count": 13,
      "outputs": [
        {
          "output_type": "execute_result",
          "data": {
            "text/plain": [
              "2.5279999999999996"
            ]
          },
          "metadata": {},
          "execution_count": 13
        }
      ]
    },
    {
      "cell_type": "code",
      "source": [
        "np.std(x, ddof=1)"
      ],
      "metadata": {
        "colab": {
          "base_uri": "https://localhost:8080/"
        },
        "id": "YhdyalhuXNWC",
        "outputId": "ae291c3f-b4c1-47bb-e324-539ec0bdff1d"
      },
      "execution_count": 16,
      "outputs": [
        {
          "output_type": "execute_result",
          "data": {
            "text/plain": [
              "0.1572542173961923"
            ]
          },
          "metadata": {},
          "execution_count": 16
        }
      ]
    },
    {
      "cell_type": "code",
      "source": [
        "t= (2.528-2.5)/(0.157/np.sqrt(10))\n",
        "t"
      ],
      "metadata": {
        "colab": {
          "base_uri": "https://localhost:8080/"
        },
        "id": "PmVG_6KvXbT0",
        "outputId": "224d3769-5020-4526-c32c-1ce79e1ef058"
      },
      "execution_count": 18,
      "outputs": [
        {
          "output_type": "execute_result",
          "data": {
            "text/plain": [
              "0.5639730858899026"
            ]
          },
          "metadata": {},
          "execution_count": 18
        }
      ]
    },
    {
      "cell_type": "markdown",
      "source": [
        "t(табл) = 1,8 для a=0,05. Поэтому принимаем H0."
      ],
      "metadata": {
        "id": "6st9mPSPYI_u"
      }
    }
  ]
}