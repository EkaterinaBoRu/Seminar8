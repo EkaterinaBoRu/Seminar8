{
  "nbformat": 4,
  "nbformat_minor": 0,
  "metadata": {
    "colab": {
      "provenance": [],
      "authorship_tag": "ABX9TyO/d95nlT6SltQcjWWs8ca8",
      "include_colab_link": true
    },
    "kernelspec": {
      "name": "python3",
      "display_name": "Python 3"
    },
    "language_info": {
      "name": "python"
    }
  },
  "cells": [
    {
      "cell_type": "markdown",
      "metadata": {
        "id": "view-in-github",
        "colab_type": "text"
      },
      "source": [
        "<a href=\"https://colab.research.google.com/github/EkaterinaBoRu/Seminar8/blob/main/%D0%94%D0%97%E2%84%969.ipynb\" target=\"_parent\"><img src=\"https://colab.research.google.com/assets/colab-badge.svg\" alt=\"Open In Colab\"/></a>"
      ]
    },
    {
      "cell_type": "markdown",
      "source": [
        "**Задание 1.** Даны значения величины заработной платы заемщиков банка (zp) и значения их поведенческого кредитного скоринга (ks): zp = [35, 45, 190, 200, 40, 70, 54, 150, 120, 110], ks = [401, 574, 874, 919, 459, 739, 653, 902, 746, 832]. Используя математические операции, посчитать коэффициенты линейной регрессии, приняв за X заработную плату (то есть, zp - признак), а за y - значения скорингового балла (то есть, ks - целевая переменная). Произвести расчет как с использованием intercept, так и без."
      ],
      "metadata": {
        "id": "CzpwKoa4fUcM"
      }
    },
    {
      "cell_type": "code",
      "execution_count": 1,
      "metadata": {
        "id": "oikKAH6vfKx_"
      },
      "outputs": [],
      "source": [
        "import numpy as np\n",
        "import matplotlib.pyplot as plt"
      ]
    },
    {
      "cell_type": "code",
      "source": [
        "zp = np.array([35, 45, 190, 200, 40, 70, 54, 150, 120, 110])\n",
        "ks = np.array([401, 574, 874, 919, 459, 739, 653, 902, 746, 832])"
      ],
      "metadata": {
        "id": "5N4iXRgTjiuL"
      },
      "execution_count": 42,
      "outputs": []
    },
    {
      "cell_type": "code",
      "source": [
        "len(zp)\n"
      ],
      "metadata": {
        "colab": {
          "base_uri": "https://localhost:8080/"
        },
        "id": "kznB0jc4jydw",
        "outputId": "05ef1b9a-9443-4862-85da-cde8c4bd89a2"
      },
      "execution_count": 6,
      "outputs": [
        {
          "output_type": "execute_result",
          "data": {
            "text/plain": [
              "10"
            ]
          },
          "metadata": {},
          "execution_count": 6
        }
      ]
    },
    {
      "cell_type": "code",
      "source": [
        "b1 = (np.mean(zp*ks)-np.mean(zp)*np.mean(ks))/(np.mean(zp**2)-np.mean(zp)**2)\n",
        "b1"
      ],
      "metadata": {
        "colab": {
          "base_uri": "https://localhost:8080/"
        },
        "id": "6SIY3bzLkIvZ",
        "outputId": "b6a66790-df3e-4c71-80c8-f6e4041004a3"
      },
      "execution_count": 7,
      "outputs": [
        {
          "output_type": "execute_result",
          "data": {
            "text/plain": [
              "2.620538882402765"
            ]
          },
          "metadata": {},
          "execution_count": 7
        }
      ]
    },
    {
      "cell_type": "code",
      "source": [
        "b0 = np.mean(ks) - b1*np.mean(zp)\n",
        "b0"
      ],
      "metadata": {
        "colab": {
          "base_uri": "https://localhost:8080/"
        },
        "id": "nSiW8KNBk4Hh",
        "outputId": "9c2667fe-fb6b-43e6-d42e-989b79356fb1"
      },
      "execution_count": 8,
      "outputs": [
        {
          "output_type": "execute_result",
          "data": {
            "text/plain": [
              "444.1773573243596"
            ]
          },
          "metadata": {},
          "execution_count": 8
        }
      ]
    },
    {
      "cell_type": "code",
      "source": [
        "y_pred = 444.1774 + 2.6205*zp\n",
        "y_pred"
      ],
      "metadata": {
        "colab": {
          "base_uri": "https://localhost:8080/"
        },
        "id": "Y0Qk88kxlGoI",
        "outputId": "93ca5042-ba91-4d2e-ece2-8af63db46952"
      },
      "execution_count": 9,
      "outputs": [
        {
          "output_type": "execute_result",
          "data": {
            "text/plain": [
              "array([535.8949, 562.0999, 942.0724, 968.2774, 548.9974, 627.6124,\n",
              "       585.6844, 837.2524, 758.6374, 732.4324])"
            ]
          },
          "metadata": {},
          "execution_count": 9
        }
      ]
    },
    {
      "cell_type": "code",
      "source": [
        "mse = ((ks - y_pred)**2).sum()/10\n",
        "mse"
      ],
      "metadata": {
        "colab": {
          "base_uri": "https://localhost:8080/"
        },
        "id": "ncHc_OWllmqt",
        "outputId": "6c7ccf5e-6f36-4f44-fb50-96e18a1d28ff"
      },
      "execution_count": 11,
      "outputs": [
        {
          "output_type": "execute_result",
          "data": {
            "text/plain": [
              "6470.414221670002"
            ]
          },
          "metadata": {},
          "execution_count": 11
        }
      ]
    },
    {
      "cell_type": "code",
      "source": [
        "from numpy.core.fromnumeric import reshape\n",
        "x = zp.reshape(10,1)\n",
        "y = ks.reshape(10,1)"
      ],
      "metadata": {
        "id": "zsFOWXVemRSz"
      },
      "execution_count": 14,
      "outputs": []
    },
    {
      "cell_type": "code",
      "source": [
        "X = np.hstack([np.ones((10,1)),x])\n",
        "X"
      ],
      "metadata": {
        "colab": {
          "base_uri": "https://localhost:8080/"
        },
        "id": "gPAmQMgEmzOE",
        "outputId": "985119e2-9640-4f11-f6a9-61578763602c"
      },
      "execution_count": 15,
      "outputs": [
        {
          "output_type": "execute_result",
          "data": {
            "text/plain": [
              "array([[  1.,  35.],\n",
              "       [  1.,  45.],\n",
              "       [  1., 190.],\n",
              "       [  1., 200.],\n",
              "       [  1.,  40.],\n",
              "       [  1.,  70.],\n",
              "       [  1.,  54.],\n",
              "       [  1., 150.],\n",
              "       [  1., 120.],\n",
              "       [  1., 110.]])"
            ]
          },
          "metadata": {},
          "execution_count": 15
        }
      ]
    },
    {
      "cell_type": "code",
      "source": [
        "B = np.dot(np.linalg.inv(np.dot(X.T, X)), X.T @ y)\n",
        "B"
      ],
      "metadata": {
        "colab": {
          "base_uri": "https://localhost:8080/"
        },
        "id": "DA9HNrabnGZc",
        "outputId": "82eff36e-415a-49b0-b9a3-7e8ac9d64aa2"
      },
      "execution_count": 16,
      "outputs": [
        {
          "output_type": "execute_result",
          "data": {
            "text/plain": [
              "array([[444.17735732],\n",
              "       [  2.62053888]])"
            ]
          },
          "metadata": {},
          "execution_count": 16
        }
      ]
    },
    {
      "cell_type": "code",
      "source": [
        "from sklearn.linear_model import LinearRegression"
      ],
      "metadata": {
        "id": "ccfunEiRnyXN"
      },
      "execution_count": 17,
      "outputs": []
    },
    {
      "cell_type": "code",
      "source": [
        "model = LinearRegression()"
      ],
      "metadata": {
        "id": "F8DCQmOSoAuX"
      },
      "execution_count": 18,
      "outputs": []
    },
    {
      "cell_type": "code",
      "source": [
        "s= zp.reshape(-1, 1)"
      ],
      "metadata": {
        "id": "u6AmenisoII_"
      },
      "execution_count": 19,
      "outputs": []
    },
    {
      "cell_type": "code",
      "source": [
        "regres = model.fit(s, ks)"
      ],
      "metadata": {
        "id": "mrDLan1noQ2X"
      },
      "execution_count": 20,
      "outputs": []
    },
    {
      "cell_type": "code",
      "source": [
        "print(regres.intercept_)"
      ],
      "metadata": {
        "colab": {
          "base_uri": "https://localhost:8080/"
        },
        "id": "38I20qN7obnV",
        "outputId": "7653514d-db17-4915-e5f6-7ecb228703e9"
      },
      "execution_count": 21,
      "outputs": [
        {
          "output_type": "stream",
          "name": "stdout",
          "text": [
            "444.1773573243595\n"
          ]
        }
      ]
    },
    {
      "cell_type": "code",
      "source": [
        "print(regres.coef_)"
      ],
      "metadata": {
        "colab": {
          "base_uri": "https://localhost:8080/"
        },
        "id": "G6oXKKCXoiRR",
        "outputId": "7a27533d-6d1f-4cbd-9116-1459fde67aed"
      },
      "execution_count": 22,
      "outputs": [
        {
          "output_type": "stream",
          "name": "stdout",
          "text": [
            "[2.62053888]\n"
          ]
        }
      ]
    },
    {
      "cell_type": "code",
      "source": [
        "y_pred = model.predict(s)\n",
        "y_pred"
      ],
      "metadata": {
        "colab": {
          "base_uri": "https://localhost:8080/"
        },
        "id": "dKVf1C4qonjx",
        "outputId": "a63b7e64-6be2-4347-f5d5-870497b73302"
      },
      "execution_count": 24,
      "outputs": [
        {
          "output_type": "execute_result",
          "data": {
            "text/plain": [
              "array([535.89621821, 562.10160703, 942.07974498, 968.2851338 ,\n",
              "       548.99891262, 627.61507909, 585.68645697, 837.25818968,\n",
              "       758.64202321, 732.43663439])"
            ]
          },
          "metadata": {},
          "execution_count": 24
        }
      ]
    },
    {
      "cell_type": "markdown",
      "source": [
        "**Задание 2.** Посчитать коэффициент линейной регрессии при заработной плате (zp), используя градиентный спуск (без intercept)."
      ],
      "metadata": {
        "id": "vPKpZexdo5nh"
      }
    },
    {
      "cell_type": "code",
      "source": [
        "zp = np.array([35, 45, 190, 200, 40, 70, 54, 150, 120, 110])\n",
        "ks = np.array([401, 574, 874, 919, 459, 739, 653, 902, 746, 832])"
      ],
      "metadata": {
        "id": "2Y0dlFVXu58f"
      },
      "execution_count": 51,
      "outputs": []
    },
    {
      "cell_type": "code",
      "source": [
        "def mse_(B1, y=ks, x=zp, n=10):\n",
        "  return np.sum((B1*x -y)**2)/10"
      ],
      "metadata": {
        "id": "YBO23TMSo-UC"
      },
      "execution_count": 52,
      "outputs": []
    },
    {
      "cell_type": "code",
      "source": [
        "alpha = 1e-6\n",
        "B1 = 0.1"
      ],
      "metadata": {
        "id": "B0uYd2SvpYmP"
      },
      "execution_count": 53,
      "outputs": []
    },
    {
      "cell_type": "code",
      "source": [
        "for i in range (1000):\n",
        "  B1 -= alpha*(2/10)* np.sum((B1*x -y)*x)\n",
        "  if i%100 ==0:\n",
        "    print ('Iteration  = {i}, B1 = {B1}'.format(i=i, B1= B1))\n"
      ],
      "metadata": {
        "colab": {
          "base_uri": "https://localhost:8080/"
        },
        "id": "kzlm9sCUrtCv",
        "outputId": "7cf5be56-f8f0-4add-97b7-c3f83ec3f089"
      },
      "execution_count": 54,
      "outputs": [
        {
          "output_type": "stream",
          "name": "stdout",
          "text": [
            "Iteration  = 0, B1 = 0.25952808\n",
            "Iteration  = 100, B1 = 5.54537842245223\n",
            "Iteration  = 200, B1 = 5.868748638669329\n",
            "Iteration  = 300, B1 = 5.888531320728348\n",
            "Iteration  = 400, B1 = 5.8897415574471985\n",
            "Iteration  = 500, B1 = 5.889815595583751\n",
            "Iteration  = 600, B1 = 5.889820124983314\n",
            "Iteration  = 700, B1 = 5.889820402076462\n",
            "Iteration  = 800, B1 = 5.88982041902807\n",
            "Iteration  = 900, B1 = 5.889820420065112\n"
          ]
        }
      ]
    },
    {
      "cell_type": "markdown",
      "source": [
        "**Задание 3.** Произвести вычисления как в пункте 2, но с вычислением intercept. Учесть, что изменение коэффициентов должно производиться на каждом шаге одновременно (то есть изменение одного коэффициента не должно влиять на изменение другого во время одной итерации)."
      ],
      "metadata": {
        "id": "vmGOEKTOvE2D"
      }
    },
    {
      "cell_type": "code",
      "source": [
        "zp = np.array([35, 45, 190, 200, 40, 70, 54, 150, 120, 110])\n",
        "ks = np.array([401, 574, 874, 919, 459, 739, 653, 902, 746, 832])"
      ],
      "metadata": {
        "id": "YqTCiaDQvIzs"
      },
      "execution_count": 55,
      "outputs": []
    },
    {
      "cell_type": "code",
      "source": [
        "def mse_2(B1, B0, y=ks, x=zp, n=10):\n",
        "  return np.sum((B0 + B1*x -y)**2)/10"
      ],
      "metadata": {
        "id": "Ve_N_2Wdx82Y"
      },
      "execution_count": 56,
      "outputs": []
    },
    {
      "cell_type": "code",
      "source": [
        "alpha = 1e-6\n",
        "B1 = 0.1\n",
        "B0 = 0.1"
      ],
      "metadata": {
        "id": "WUdll6w1yLCP"
      },
      "execution_count": 57,
      "outputs": []
    },
    {
      "cell_type": "code",
      "source": [
        "for i in range (1000):\n",
        "  B1 -= alpha*(2/10)* np.sum((B0+ B1*x -y)*x)\n",
        "  B0 -= alpha*(1/10)* np.sum((B0+ B1*x -y))\n",
        "  if i%100 ==0:\n",
        "    print ('Iteration  = {i}, B1 = {B1}, B0 = {B0} '.format(i=i, B1= B1, B0=B0))"
      ],
      "metadata": {
        "colab": {
          "base_uri": "https://localhost:8080/"
        },
        "id": "RyWGiAeiySqA",
        "outputId": "5c432d3d-c00a-40e2-dbc2-48913a8038fb"
      },
      "execution_count": 58,
      "outputs": [
        {
          "output_type": "stream",
          "name": "stdout",
          "text": [
            "Iteration  = 0, B1 = 0.2595078, B0 = 0.10068348590908001 \n",
            "Iteration  = 100, B1 = 5.544513288337427, B0 = 0.13086140535743157 \n",
            "Iteration  = 200, B1 = 5.867729857946522, B0 = 0.1432818571297129 \n",
            "Iteration  = 300, B1 = 5.887423835097829, B0 = 0.154615780711325 \n",
            "Iteration  = 400, B1 = 5.888550727585718, B0 = 0.16588297096272403 \n",
            "Iteration  = 500, B1 = 5.88854183618495, B0 = 0.17714581079069275 \n",
            "Iteration  = 600, B1 = 5.888463468576455, B0 = 0.18840811628974455 \n",
            "Iteration  = 700, B1 = 5.888380852942821, B0 = 0.1996701209048493 \n",
            "Iteration  = 800, B1 = 5.888297979422949, B0 = 0.21093183892310757 \n",
            "Iteration  = 900, B1 = 5.8882150921015945, B0 = 0.22219327122529242 \n"
          ]
        }
      ]
    }
  ]
}